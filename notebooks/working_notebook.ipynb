{
 "cells": [
  {
   "cell_type": "code",
   "execution_count": 1,
   "id": "8807ae2c",
   "metadata": {},
   "outputs": [],
   "source": [
    "from scripts.scraping import scrape_symbols, scrape_financial, download_data\n",
    "import os"
   ]
  },
  {
   "cell_type": "code",
   "execution_count": 2,
   "id": "28ed7a21",
   "metadata": {},
   "outputs": [],
   "source": [
    "FIRST_RUN = False\n",
    "cotation_url = ['https://www.slickcharts.com/sp500']"
   ]
  },
  {
   "cell_type": "code",
   "execution_count": 3,
   "id": "b916bc37",
   "metadata": {},
   "outputs": [],
   "source": [
    "if FIRST_RUN:\n",
    "    if 'data' not in os.listdir('..'):\n",
    "        os.mkdir('../data')\n",
    "    if 'symbols.txt' not in os.listdir('../data'):\n",
    "        with open('../data/symbols.txt', 'w') as f:\n",
    "            pass\n",
    "    if 'financials' not in os.listdir('..'):\n",
    "        os.mkdir('../data/financials')\n",
    "    if 'links.txt' not in os.listdir('../data'):\n",
    "        with open('../data/links.txt', 'w') as f:\n",
    "            pass\n",
    "    symbols = scrape_symbols(cotation_url, '../data/symbols.txt')\n",
    "else:\n",
    "    with open('../data/symbols.txt', 'r') as f:\n",
    "        symbols = f.readlines()\n",
    "        symbols = [symbol.strip() for symbol in symbols]"
   ]
  },
  {
   "cell_type": "code",
   "execution_count": 4,
   "id": "1613a92d",
   "metadata": {},
   "outputs": [
    {
     "name": "stderr",
     "output_type": "stream",
     "text": [
      "Scraping financial data:   1%|▏         | 7/477 [00:36<36:58,  4.72s/it]"
     ]
    }
   ],
   "source": [
    "links = scrape_financial(symbols, progress_file='../data/links.txt')"
   ]
  },
  {
   "cell_type": "code",
   "execution_count": null,
   "id": "47bd5e33",
   "metadata": {},
   "outputs": [],
   "source": [
    "download_data('../data/links.txt')"
   ]
  }
 ],
 "metadata": {
  "kernelspec": {
   "display_name": "Python 3 (ipykernel)",
   "language": "python",
   "name": "python3"
  },
  "language_info": {
   "codemirror_mode": {
    "name": "ipython",
    "version": 3
   },
   "file_extension": ".py",
   "mimetype": "text/x-python",
   "name": "python",
   "nbconvert_exporter": "python",
   "pygments_lexer": "ipython3",
   "version": "3.11.8"
  },
  "toc": {
   "base_numbering": 1,
   "nav_menu": {},
   "number_sections": true,
   "sideBar": true,
   "skip_h1_title": false,
   "title_cell": "Table of Contents",
   "title_sidebar": "Contents",
   "toc_cell": false,
   "toc_position": {},
   "toc_section_display": true,
   "toc_window_display": false
  }
 },
 "nbformat": 4,
 "nbformat_minor": 5
}
