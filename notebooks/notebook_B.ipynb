{
 "cells": [
  {
   "cell_type": "code",
   "execution_count": 3,
   "metadata": {},
   "outputs": [
    {
     "name": "stdout",
     "output_type": "stream",
     "text": [
      "Collecting selenium\n",
      "  Downloading selenium-4.19.0-py3-none-any.whl.metadata (6.9 kB)\n",
      "Requirement already satisfied: urllib3<3,>=1.26 in c:\\users\\rasso\\appdata\\local\\programs\\python\\python312\\lib\\site-packages (from urllib3[socks]<3,>=1.26->selenium) (2.1.0)\n",
      "Collecting trio~=0.17 (from selenium)\n",
      "  Downloading trio-0.25.0-py3-none-any.whl.metadata (8.7 kB)\n",
      "Collecting trio-websocket~=0.9 (from selenium)\n",
      "  Downloading trio_websocket-0.11.1-py3-none-any.whl.metadata (4.7 kB)\n",
      "Requirement already satisfied: certifi>=2021.10.8 in c:\\users\\rasso\\appdata\\local\\programs\\python\\python312\\lib\\site-packages (from selenium) (2023.11.17)\n",
      "Collecting typing_extensions>=4.9.0 (from selenium)\n",
      "  Downloading typing_extensions-4.10.0-py3-none-any.whl.metadata (3.0 kB)\n",
      "Collecting attrs>=23.2.0 (from trio~=0.17->selenium)\n",
      "  Using cached attrs-23.2.0-py3-none-any.whl.metadata (9.5 kB)\n",
      "Collecting sortedcontainers (from trio~=0.17->selenium)\n",
      "  Downloading sortedcontainers-2.4.0-py2.py3-none-any.whl.metadata (10 kB)\n",
      "Requirement already satisfied: idna in c:\\users\\rasso\\appdata\\local\\programs\\python\\python312\\lib\\site-packages (from trio~=0.17->selenium) (3.6)\n",
      "Collecting outcome (from trio~=0.17->selenium)\n",
      "  Downloading outcome-1.3.0.post0-py2.py3-none-any.whl.metadata (2.6 kB)\n",
      "Collecting sniffio>=1.3.0 (from trio~=0.17->selenium)\n",
      "  Using cached sniffio-1.3.1-py3-none-any.whl.metadata (3.9 kB)\n",
      "Collecting cffi>=1.14 (from trio~=0.17->selenium)\n",
      "  Using cached cffi-1.16.0-cp312-cp312-win_amd64.whl.metadata (1.5 kB)\n",
      "Collecting wsproto>=0.14 (from trio-websocket~=0.9->selenium)\n",
      "  Downloading wsproto-1.2.0-py3-none-any.whl.metadata (5.6 kB)\n",
      "Collecting pysocks!=1.5.7,<2.0,>=1.5.6 (from urllib3[socks]<3,>=1.26->selenium)\n",
      "  Downloading PySocks-1.7.1-py3-none-any.whl.metadata (13 kB)\n",
      "Collecting pycparser (from cffi>=1.14->trio~=0.17->selenium)\n",
      "  Using cached pycparser-2.22-py3-none-any.whl.metadata (943 bytes)\n",
      "Collecting h11<1,>=0.9.0 (from wsproto>=0.14->trio-websocket~=0.9->selenium)\n",
      "  Using cached h11-0.14.0-py3-none-any.whl.metadata (8.2 kB)\n",
      "Downloading selenium-4.19.0-py3-none-any.whl (10.5 MB)\n",
      "   ---------------------------------------- 0.0/10.5 MB ? eta -:--:--\n",
      "   ---------------------------------------- 0.1/10.5 MB 3.6 MB/s eta 0:00:03\n",
      "   - -------------------------------------- 0.4/10.5 MB 4.6 MB/s eta 0:00:03\n",
      "   -- ------------------------------------- 0.7/10.5 MB 5.7 MB/s eta 0:00:02\n",
      "   ---- ----------------------------------- 1.1/10.5 MB 6.1 MB/s eta 0:00:02\n",
      "   ----- ---------------------------------- 1.3/10.5 MB 6.1 MB/s eta 0:00:02\n",
      "   ------ --------------------------------- 1.7/10.5 MB 6.4 MB/s eta 0:00:02\n",
      "   ------- -------------------------------- 2.0/10.5 MB 6.4 MB/s eta 0:00:02\n",
      "   -------- ------------------------------- 2.1/10.5 MB 5.9 MB/s eta 0:00:02\n",
      "   --------- ------------------------------ 2.4/10.5 MB 6.0 MB/s eta 0:00:02\n",
      "   ---------- ----------------------------- 2.8/10.5 MB 6.2 MB/s eta 0:00:02\n",
      "   ------------ --------------------------- 3.2/10.5 MB 6.4 MB/s eta 0:00:02\n",
      "   -------------- ------------------------- 3.7/10.5 MB 6.7 MB/s eta 0:00:02\n",
      "   --------------- ------------------------ 4.1/10.5 MB 6.9 MB/s eta 0:00:01\n",
      "   ----------------- ---------------------- 4.5/10.5 MB 7.1 MB/s eta 0:00:01\n",
      "   ------------------- -------------------- 5.0/10.5 MB 7.3 MB/s eta 0:00:01\n",
      "   -------------------- ------------------- 5.5/10.5 MB 7.4 MB/s eta 0:00:01\n",
      "   ---------------------- ----------------- 5.8/10.5 MB 7.5 MB/s eta 0:00:01\n",
      "   ----------------------- ---------------- 6.2/10.5 MB 7.5 MB/s eta 0:00:01\n",
      "   ------------------------- -------------- 6.6/10.5 MB 7.5 MB/s eta 0:00:01\n",
      "   -------------------------- ------------- 7.0/10.5 MB 7.6 MB/s eta 0:00:01\n",
      "   ---------------------------- ----------- 7.4/10.5 MB 7.6 MB/s eta 0:00:01\n",
      "   ----------------------------- ---------- 7.8/10.5 MB 7.7 MB/s eta 0:00:01\n",
      "   ------------------------------- -------- 8.2/10.5 MB 7.7 MB/s eta 0:00:01\n",
      "   -------------------------------- ------- 8.6/10.5 MB 7.8 MB/s eta 0:00:01\n",
      "   ---------------------------------- ----- 9.0/10.5 MB 7.8 MB/s eta 0:00:01\n",
      "   ------------------------------------ --- 9.5/10.5 MB 7.8 MB/s eta 0:00:01\n",
      "   ------------------------------------- -- 9.8/10.5 MB 7.8 MB/s eta 0:00:01\n",
      "   ---------------------------------------  10.3/10.5 MB 8.1 MB/s eta 0:00:01\n",
      "   ---------------------------------------  10.5/10.5 MB 8.2 MB/s eta 0:00:01\n",
      "   ---------------------------------------- 10.5/10.5 MB 7.9 MB/s eta 0:00:00\n",
      "Downloading trio-0.25.0-py3-none-any.whl (467 kB)\n",
      "   ---------------------------------------- 0.0/467.2 kB ? eta -:--:--\n",
      "   -------------------------------- ------- 378.9/467.2 kB 7.8 MB/s eta 0:00:01\n",
      "   ---------------------------------------- 467.2/467.2 kB 7.4 MB/s eta 0:00:00\n",
      "Downloading trio_websocket-0.11.1-py3-none-any.whl (17 kB)\n",
      "Downloading typing_extensions-4.10.0-py3-none-any.whl (33 kB)\n",
      "Using cached attrs-23.2.0-py3-none-any.whl (60 kB)\n",
      "Using cached cffi-1.16.0-cp312-cp312-win_amd64.whl (181 kB)\n",
      "Downloading PySocks-1.7.1-py3-none-any.whl (16 kB)\n",
      "Using cached sniffio-1.3.1-py3-none-any.whl (10 kB)\n",
      "Downloading wsproto-1.2.0-py3-none-any.whl (24 kB)\n",
      "Downloading outcome-1.3.0.post0-py2.py3-none-any.whl (10 kB)\n",
      "Downloading sortedcontainers-2.4.0-py2.py3-none-any.whl (29 kB)\n",
      "Using cached h11-0.14.0-py3-none-any.whl (58 kB)\n",
      "Using cached pycparser-2.22-py3-none-any.whl (117 kB)\n",
      "Installing collected packages: sortedcontainers, typing_extensions, sniffio, pysocks, pycparser, h11, attrs, wsproto, outcome, cffi, trio, trio-websocket, selenium\n",
      "Successfully installed attrs-23.2.0 cffi-1.16.0 h11-0.14.0 outcome-1.3.0.post0 pycparser-2.22 pysocks-1.7.1 selenium-4.19.0 sniffio-1.3.1 sortedcontainers-2.4.0 trio-0.25.0 trio-websocket-0.11.1 typing_extensions-4.10.0 wsproto-1.2.0\n",
      "Note: you may need to restart the kernel to use updated packages.\n"
     ]
    }
   ],
   "source": [
    "pip install selenium\n"
   ]
  },
  {
   "cell_type": "code",
   "execution_count": 6,
   "metadata": {},
   "outputs": [
    {
     "name": "stdout",
     "output_type": "stream",
     "text": [
      "Requirement already satisfied: webdriver-manager in c:\\users\\rasso\\appdata\\local\\programs\\python\\python312\\lib\\site-packages (4.0.1)\n",
      "Requirement already satisfied: requests in c:\\users\\rasso\\appdata\\local\\programs\\python\\python312\\lib\\site-packages (from webdriver-manager) (2.31.0)\n",
      "Requirement already satisfied: python-dotenv in c:\\users\\rasso\\appdata\\local\\programs\\python\\python312\\lib\\site-packages (from webdriver-manager) (1.0.1)\n",
      "Requirement already satisfied: packaging in c:\\users\\rasso\\appdata\\local\\programs\\python\\python312\\lib\\site-packages (from webdriver-manager) (23.2)\n",
      "Requirement already satisfied: charset-normalizer<4,>=2 in c:\\users\\rasso\\appdata\\local\\programs\\python\\python312\\lib\\site-packages (from requests->webdriver-manager) (3.3.2)\n",
      "Requirement already satisfied: idna<4,>=2.5 in c:\\users\\rasso\\appdata\\local\\programs\\python\\python312\\lib\\site-packages (from requests->webdriver-manager) (3.6)\n",
      "Requirement already satisfied: urllib3<3,>=1.21.1 in c:\\users\\rasso\\appdata\\local\\programs\\python\\python312\\lib\\site-packages (from requests->webdriver-manager) (2.1.0)\n",
      "Requirement already satisfied: certifi>=2017.4.17 in c:\\users\\rasso\\appdata\\local\\programs\\python\\python312\\lib\\site-packages (from requests->webdriver-manager) (2023.11.17)\n",
      "Note: you may need to restart the kernel to use updated packages.\n"
     ]
    }
   ],
   "source": [
    "pip install webdriver-manager"
   ]
  },
  {
   "cell_type": "code",
   "execution_count": 8,
   "metadata": {},
   "outputs": [
    {
     "name": "stdout",
     "output_type": "stream",
     "text": [
      "Collecting tdqm\n",
      "  Downloading tdqm-0.0.1.tar.gz (1.4 kB)\n",
      "  Installing build dependencies: started\n",
      "  Installing build dependencies: finished with status 'done'\n",
      "  Getting requirements to build wheel: started\n",
      "  Getting requirements to build wheel: finished with status 'done'\n",
      "  Installing backend dependencies: started\n",
      "  Installing backend dependencies: finished with status 'done'\n",
      "  Preparing metadata (pyproject.toml): started\n",
      "  Preparing metadata (pyproject.toml): finished with status 'done'\n",
      "Collecting tqdm (from tdqm)\n",
      "  Downloading tqdm-4.66.2-py3-none-any.whl.metadata (57 kB)\n",
      "     ---------------------------------------- 0.0/57.6 kB ? eta -:--:--\n",
      "     ---------------------------------------- 57.6/57.6 kB 3.0 MB/s eta 0:00:00\n",
      "Requirement already satisfied: colorama in c:\\users\\rasso\\appdata\\local\\programs\\python\\python312\\lib\\site-packages (from tqdm->tdqm) (0.4.6)\n",
      "Downloading tqdm-4.66.2-py3-none-any.whl (78 kB)\n",
      "   ---------------------------------------- 0.0/78.3 kB ? eta -:--:--\n",
      "   ---------------------------------------- 78.3/78.3 kB 2.1 MB/s eta 0:00:00\n",
      "Building wheels for collected packages: tdqm\n",
      "  Building wheel for tdqm (pyproject.toml): started\n",
      "  Building wheel for tdqm (pyproject.toml): finished with status 'done'\n",
      "  Created wheel for tdqm: filename=tdqm-0.0.1-py3-none-any.whl size=1334 sha256=3143f94d38a2b9408fa6722cfb13ec946f9595e29d4bae2dba4f40b0ee2c74c8\n",
      "  Stored in directory: c:\\users\\rasso\\appdata\\local\\pip\\cache\\wheels\\af\\02\\71\\aae0f7ee738abf19498353918ddae0f90a0d6ceb337b0bbc91\n",
      "Successfully built tdqm\n",
      "Installing collected packages: tqdm, tdqm\n",
      "Successfully installed tdqm-0.0.1 tqdm-4.66.2\n",
      "Note: you may need to restart the kernel to use updated packages.\n"
     ]
    }
   ],
   "source": [
    "pip install tdqm"
   ]
  },
  {
   "cell_type": "code",
   "execution_count": 9,
   "metadata": {},
   "outputs": [],
   "source": [
    "from selenium.webdriver.chrome.service import Service as ChromeService\n",
    "from selenium import webdriver\n",
    "from selenium.webdriver.chrome.service import Service\n",
    "from webdriver_manager.chrome import ChromeDriverManager\n",
    "from selenium.webdriver.common.by import By\n",
    "from selenium.webdriver.common.keys import Keys\n",
    "from selenium.webdriver.support.ui import WebDriverWait\n",
    "from selenium.webdriver.support import expected_conditions as EC\n",
    "from selenium.common.exceptions import NoSuchElementException\n",
    "\n",
    "from bs4 import BeautifulSoup\n",
    "\n",
    "from tqdm import tqdm\n",
    "import csv\n",
    "import os\n",
    "import requests\n",
    "\n",
    "import pandas as pd"
   ]
  },
  {
   "cell_type": "code",
   "execution_count": 29,
   "metadata": {},
   "outputs": [],
   "source": [
    "url = 'https://www.formula1.com/'\n",
    "driver = webdriver.Chrome()\n",
    "driver.get(url)"
   ]
  },
  {
   "cell_type": "code",
   "execution_count": 31,
   "metadata": {},
   "outputs": [
    {
     "ename": "NoSuchElementException",
     "evalue": "Message: no such element: Unable to locate element: {\"method\":\"xpath\",\"selector\":\"/html/body/div/div[2]/div[3]/button[3]\"}\n  (Session info: chrome=123.0.6312.58); For documentation on this error, please visit: https://www.selenium.dev/documentation/webdriver/troubleshooting/errors#no-such-element-exception\nStacktrace:\n\tGetHandleVerifier [0x00007FF601F570C2+63090]\n\t(No symbol) [0x00007FF601EC2D12]\n\t(No symbol) [0x00007FF601D5EC65]\n\t(No symbol) [0x00007FF601DA499D]\n\t(No symbol) [0x00007FF601DA4ADC]\n\t(No symbol) [0x00007FF601DE5B37]\n\t(No symbol) [0x00007FF601DC701F]\n\t(No symbol) [0x00007FF601DE3412]\n\t(No symbol) [0x00007FF601DC6D83]\n\t(No symbol) [0x00007FF601D983A8]\n\t(No symbol) [0x00007FF601D99441]\n\tGetHandleVerifier [0x00007FF60235262D+4238301]\n\tGetHandleVerifier [0x00007FF60238F78D+4488509]\n\tGetHandleVerifier [0x00007FF602387A6F+4456479]\n\tGetHandleVerifier [0x00007FF602030606+953270]\n\t(No symbol) [0x00007FF601ECE5DF]\n\t(No symbol) [0x00007FF601EC92B4]\n\t(No symbol) [0x00007FF601EC93EB]\n\t(No symbol) [0x00007FF601EB9C24]\n\tBaseThreadInitThunk [0x00007FF9DE87257D+29]\n\tRtlUserThreadStart [0x00007FF9E008AA58+40]\n",
     "output_type": "error",
     "traceback": [
      "\u001b[1;31m---------------------------------------------------------------------------\u001b[0m",
      "\u001b[1;31mNoSuchElementException\u001b[0m                    Traceback (most recent call last)",
      "Cell \u001b[1;32mIn[31], line 1\u001b[0m\n\u001b[1;32m----> 1\u001b[0m \u001b[43mdriver\u001b[49m\u001b[38;5;241;43m.\u001b[39;49m\u001b[43mfind_element\u001b[49m\u001b[43m(\u001b[49m\u001b[43mBy\u001b[49m\u001b[38;5;241;43m.\u001b[39;49m\u001b[43mXPATH\u001b[49m\u001b[43m,\u001b[49m\u001b[38;5;124;43m\"\u001b[39;49m\u001b[38;5;124;43m/html/body/div/div[2]/div[3]/button[3]\u001b[39;49m\u001b[38;5;124;43m\"\u001b[39;49m\u001b[43m)\u001b[49m\u001b[38;5;241m.\u001b[39mclick()\n",
      "File \u001b[1;32mc:\\Users\\rasso\\AppData\\Local\\Programs\\Python\\Python312\\Lib\\site-packages\\selenium\\webdriver\\remote\\webdriver.py:741\u001b[0m, in \u001b[0;36mWebDriver.find_element\u001b[1;34m(self, by, value)\u001b[0m\n\u001b[0;32m    738\u001b[0m     by \u001b[38;5;241m=\u001b[39m By\u001b[38;5;241m.\u001b[39mCSS_SELECTOR\n\u001b[0;32m    739\u001b[0m     value \u001b[38;5;241m=\u001b[39m \u001b[38;5;124mf\u001b[39m\u001b[38;5;124m'\u001b[39m\u001b[38;5;124m[name=\u001b[39m\u001b[38;5;124m\"\u001b[39m\u001b[38;5;132;01m{\u001b[39;00mvalue\u001b[38;5;132;01m}\u001b[39;00m\u001b[38;5;124m\"\u001b[39m\u001b[38;5;124m]\u001b[39m\u001b[38;5;124m'\u001b[39m\n\u001b[1;32m--> 741\u001b[0m \u001b[38;5;28;01mreturn\u001b[39;00m \u001b[38;5;28;43mself\u001b[39;49m\u001b[38;5;241;43m.\u001b[39;49m\u001b[43mexecute\u001b[49m\u001b[43m(\u001b[49m\u001b[43mCommand\u001b[49m\u001b[38;5;241;43m.\u001b[39;49m\u001b[43mFIND_ELEMENT\u001b[49m\u001b[43m,\u001b[49m\u001b[43m \u001b[49m\u001b[43m{\u001b[49m\u001b[38;5;124;43m\"\u001b[39;49m\u001b[38;5;124;43musing\u001b[39;49m\u001b[38;5;124;43m\"\u001b[39;49m\u001b[43m:\u001b[49m\u001b[43m \u001b[49m\u001b[43mby\u001b[49m\u001b[43m,\u001b[49m\u001b[43m \u001b[49m\u001b[38;5;124;43m\"\u001b[39;49m\u001b[38;5;124;43mvalue\u001b[39;49m\u001b[38;5;124;43m\"\u001b[39;49m\u001b[43m:\u001b[49m\u001b[43m \u001b[49m\u001b[43mvalue\u001b[49m\u001b[43m}\u001b[49m\u001b[43m)\u001b[49m[\u001b[38;5;124m\"\u001b[39m\u001b[38;5;124mvalue\u001b[39m\u001b[38;5;124m\"\u001b[39m]\n",
      "File \u001b[1;32mc:\\Users\\rasso\\AppData\\Local\\Programs\\Python\\Python312\\Lib\\site-packages\\selenium\\webdriver\\remote\\webdriver.py:347\u001b[0m, in \u001b[0;36mWebDriver.execute\u001b[1;34m(self, driver_command, params)\u001b[0m\n\u001b[0;32m    345\u001b[0m response \u001b[38;5;241m=\u001b[39m \u001b[38;5;28mself\u001b[39m\u001b[38;5;241m.\u001b[39mcommand_executor\u001b[38;5;241m.\u001b[39mexecute(driver_command, params)\n\u001b[0;32m    346\u001b[0m \u001b[38;5;28;01mif\u001b[39;00m response:\n\u001b[1;32m--> 347\u001b[0m     \u001b[38;5;28;43mself\u001b[39;49m\u001b[38;5;241;43m.\u001b[39;49m\u001b[43merror_handler\u001b[49m\u001b[38;5;241;43m.\u001b[39;49m\u001b[43mcheck_response\u001b[49m\u001b[43m(\u001b[49m\u001b[43mresponse\u001b[49m\u001b[43m)\u001b[49m\n\u001b[0;32m    348\u001b[0m     response[\u001b[38;5;124m\"\u001b[39m\u001b[38;5;124mvalue\u001b[39m\u001b[38;5;124m\"\u001b[39m] \u001b[38;5;241m=\u001b[39m \u001b[38;5;28mself\u001b[39m\u001b[38;5;241m.\u001b[39m_unwrap_value(response\u001b[38;5;241m.\u001b[39mget(\u001b[38;5;124m\"\u001b[39m\u001b[38;5;124mvalue\u001b[39m\u001b[38;5;124m\"\u001b[39m, \u001b[38;5;28;01mNone\u001b[39;00m))\n\u001b[0;32m    349\u001b[0m     \u001b[38;5;28;01mreturn\u001b[39;00m response\n",
      "File \u001b[1;32mc:\\Users\\rasso\\AppData\\Local\\Programs\\Python\\Python312\\Lib\\site-packages\\selenium\\webdriver\\remote\\errorhandler.py:229\u001b[0m, in \u001b[0;36mErrorHandler.check_response\u001b[1;34m(self, response)\u001b[0m\n\u001b[0;32m    227\u001b[0m         alert_text \u001b[38;5;241m=\u001b[39m value[\u001b[38;5;124m\"\u001b[39m\u001b[38;5;124malert\u001b[39m\u001b[38;5;124m\"\u001b[39m]\u001b[38;5;241m.\u001b[39mget(\u001b[38;5;124m\"\u001b[39m\u001b[38;5;124mtext\u001b[39m\u001b[38;5;124m\"\u001b[39m)\n\u001b[0;32m    228\u001b[0m     \u001b[38;5;28;01mraise\u001b[39;00m exception_class(message, screen, stacktrace, alert_text)  \u001b[38;5;66;03m# type: ignore[call-arg]  # mypy is not smart enough here\u001b[39;00m\n\u001b[1;32m--> 229\u001b[0m \u001b[38;5;28;01mraise\u001b[39;00m exception_class(message, screen, stacktrace)\n",
      "\u001b[1;31mNoSuchElementException\u001b[0m: Message: no such element: Unable to locate element: {\"method\":\"xpath\",\"selector\":\"/html/body/div/div[2]/div[3]/button[3]\"}\n  (Session info: chrome=123.0.6312.58); For documentation on this error, please visit: https://www.selenium.dev/documentation/webdriver/troubleshooting/errors#no-such-element-exception\nStacktrace:\n\tGetHandleVerifier [0x00007FF601F570C2+63090]\n\t(No symbol) [0x00007FF601EC2D12]\n\t(No symbol) [0x00007FF601D5EC65]\n\t(No symbol) [0x00007FF601DA499D]\n\t(No symbol) [0x00007FF601DA4ADC]\n\t(No symbol) [0x00007FF601DE5B37]\n\t(No symbol) [0x00007FF601DC701F]\n\t(No symbol) [0x00007FF601DE3412]\n\t(No symbol) [0x00007FF601DC6D83]\n\t(No symbol) [0x00007FF601D983A8]\n\t(No symbol) [0x00007FF601D99441]\n\tGetHandleVerifier [0x00007FF60235262D+4238301]\n\tGetHandleVerifier [0x00007FF60238F78D+4488509]\n\tGetHandleVerifier [0x00007FF602387A6F+4456479]\n\tGetHandleVerifier [0x00007FF602030606+953270]\n\t(No symbol) [0x00007FF601ECE5DF]\n\t(No symbol) [0x00007FF601EC92B4]\n\t(No symbol) [0x00007FF601EC93EB]\n\t(No symbol) [0x00007FF601EB9C24]\n\tBaseThreadInitThunk [0x00007FF9DE87257D+29]\n\tRtlUserThreadStart [0x00007FF9E008AA58+40]\n"
     ]
    }
   ],
   "source": [
    "driver.find_element(By.XPATH,\"/html/body/div/div[2]/div[3]/button[3]\").click()"
   ]
  },
  {
   "cell_type": "code",
   "execution_count": 28,
   "metadata": {},
   "outputs": [
    {
     "ename": "TimeoutException",
     "evalue": "Message: \nStacktrace:\n\tGetHandleVerifier [0x00007FF601F570C2+63090]\n\t(No symbol) [0x00007FF601EC2D12]\n\t(No symbol) [0x00007FF601D5EC65]\n\t(No symbol) [0x00007FF601DA499D]\n\t(No symbol) [0x00007FF601DA4ADC]\n\t(No symbol) [0x00007FF601DE5B37]\n\t(No symbol) [0x00007FF601DC701F]\n\t(No symbol) [0x00007FF601DE3412]\n\t(No symbol) [0x00007FF601DC6D83]\n\t(No symbol) [0x00007FF601D983A8]\n\t(No symbol) [0x00007FF601D99441]\n\tGetHandleVerifier [0x00007FF60235262D+4238301]\n\tGetHandleVerifier [0x00007FF60238F78D+4488509]\n\tGetHandleVerifier [0x00007FF602387A6F+4456479]\n\tGetHandleVerifier [0x00007FF602030606+953270]\n\t(No symbol) [0x00007FF601ECE5DF]\n\t(No symbol) [0x00007FF601EC92B4]\n\t(No symbol) [0x00007FF601EC93EB]\n\t(No symbol) [0x00007FF601EB9C24]\n\tBaseThreadInitThunk [0x00007FF9DE87257D+29]\n\tRtlUserThreadStart [0x00007FF9E008AA58+40]\n",
     "output_type": "error",
     "traceback": [
      "\u001b[1;31m---------------------------------------------------------------------------\u001b[0m",
      "\u001b[1;31mTimeoutException\u001b[0m                          Traceback (most recent call last)",
      "Cell \u001b[1;32mIn[28], line 1\u001b[0m\n\u001b[1;32m----> 1\u001b[0m cookies \u001b[38;5;241m=\u001b[39m \u001b[43mWebDriverWait\u001b[49m\u001b[43m(\u001b[49m\u001b[43mdriver\u001b[49m\u001b[43m,\u001b[49m\u001b[43m \u001b[49m\u001b[38;5;241;43m15\u001b[39;49m\u001b[43m)\u001b[49m\u001b[38;5;241;43m.\u001b[39;49m\u001b[43muntil\u001b[49m\u001b[43m(\u001b[49m\u001b[43mEC\u001b[49m\u001b[38;5;241;43m.\u001b[39;49m\u001b[43melement_to_be_clickable\u001b[49m\u001b[43m(\u001b[49m\u001b[43m(\u001b[49m\u001b[43mBy\u001b[49m\u001b[38;5;241;43m.\u001b[39;49m\u001b[43mXPATH\u001b[49m\u001b[43m,\u001b[49m\u001b[43m \u001b[49m\u001b[38;5;124;43m'\u001b[39;49m\u001b[38;5;124;43m//*[@id=\u001b[39;49m\u001b[38;5;124;43m\"\u001b[39;49m\u001b[38;5;124;43mnotice\u001b[39;49m\u001b[38;5;124;43m\"\u001b[39;49m\u001b[38;5;124;43m]/div[3]/button[3]\u001b[39;49m\u001b[38;5;124;43m'\u001b[39;49m\u001b[43m)\u001b[49m\u001b[43m)\u001b[49m\u001b[43m)\u001b[49m\n\u001b[0;32m      2\u001b[0m cookies\u001b[38;5;241m.\u001b[39mclick()\n",
      "File \u001b[1;32mc:\\Users\\rasso\\AppData\\Local\\Programs\\Python\\Python312\\Lib\\site-packages\\selenium\\webdriver\\support\\wait.py:105\u001b[0m, in \u001b[0;36mWebDriverWait.until\u001b[1;34m(self, method, message)\u001b[0m\n\u001b[0;32m    103\u001b[0m     \u001b[38;5;28;01mif\u001b[39;00m time\u001b[38;5;241m.\u001b[39mmonotonic() \u001b[38;5;241m>\u001b[39m end_time:\n\u001b[0;32m    104\u001b[0m         \u001b[38;5;28;01mbreak\u001b[39;00m\n\u001b[1;32m--> 105\u001b[0m \u001b[38;5;28;01mraise\u001b[39;00m TimeoutException(message, screen, stacktrace)\n",
      "\u001b[1;31mTimeoutException\u001b[0m: Message: \nStacktrace:\n\tGetHandleVerifier [0x00007FF601F570C2+63090]\n\t(No symbol) [0x00007FF601EC2D12]\n\t(No symbol) [0x00007FF601D5EC65]\n\t(No symbol) [0x00007FF601DA499D]\n\t(No symbol) [0x00007FF601DA4ADC]\n\t(No symbol) [0x00007FF601DE5B37]\n\t(No symbol) [0x00007FF601DC701F]\n\t(No symbol) [0x00007FF601DE3412]\n\t(No symbol) [0x00007FF601DC6D83]\n\t(No symbol) [0x00007FF601D983A8]\n\t(No symbol) [0x00007FF601D99441]\n\tGetHandleVerifier [0x00007FF60235262D+4238301]\n\tGetHandleVerifier [0x00007FF60238F78D+4488509]\n\tGetHandleVerifier [0x00007FF602387A6F+4456479]\n\tGetHandleVerifier [0x00007FF602030606+953270]\n\t(No symbol) [0x00007FF601ECE5DF]\n\t(No symbol) [0x00007FF601EC92B4]\n\t(No symbol) [0x00007FF601EC93EB]\n\t(No symbol) [0x00007FF601EB9C24]\n\tBaseThreadInitThunk [0x00007FF9DE87257D+29]\n\tRtlUserThreadStart [0x00007FF9E008AA58+40]\n"
     ]
    }
   ],
   "source": [
    "cookies = WebDriverWait(driver, 15).until(EC.element_to_be_clickable((By.XPATH, '//*[@id=\"notice\"]/div[3]/button[3]')))\n",
    "cookies.click()"
   ]
  },
  {
   "cell_type": "code",
   "execution_count": null,
   "metadata": {},
   "outputs": [],
   "source": [
    "def scrape_isin(urls):\n",
    "    driver = webdriver.Chrome()\n",
    "    for url in urls:\n",
    "        driver.get(url)\n",
    "        # cookies = driver.find_element(By.XPATH, '//*[@id=\"qc-cmp2-ui\"]/div[2]/div/button[2]')\n",
    "        # wait for loading and then click on the button\n",
    "        cookies = WebDriverWait(driver, 10).until(EC.element_to_be_clickable((By.XPATH, '//*[@id=\"qc-cmp2-ui\"]/div[2]/div/button[2]')))\n",
    "        cookies.click()\n",
    "        \n",
    "        try:\n",
    "            # get the table\n",
    "            table = WebDriverWait(driver, 10).until(EC.presence_of_element_located((By.XPATH, '/html/body/div[4]/div[2]/div[1]/div/div/table')))\n",
    "            # get the rows\n",
    "            rows = table.find_elements(By.TAG_NAME, 'tr')\n",
    "            symbols = [row.find_elements(By.TAG_NAME, 'td')[2].text for row in rows[1:]]\n",
    "            # get the headers\n",
    "            headers = rows[0].find_elements(By.TAG_NAME, 'th')\n",
    "        \n",
    "            # get the isin\n",
    "        except NoSuchElementException:\n",
    "            print(\"Table element not found.\")\n",
    "        \n",
    "        #Save the list in a txt file\n",
    "        with open('../data/symbols.txt', 'w') as f:\n",
    "            for item in symbols:\n",
    "                f.write(item + '\\n')\n",
    "                \n",
    "        return symbols\n",
    "scrape_isin(cotation_url)"
   ]
  }
 ],
 "metadata": {
  "kernelspec": {
   "display_name": "Python 3",
   "language": "python",
   "name": "python3"
  },
  "language_info": {
   "codemirror_mode": {
    "name": "ipython",
    "version": 3
   },
   "file_extension": ".py",
   "mimetype": "text/x-python",
   "name": "python",
   "nbconvert_exporter": "python",
   "pygments_lexer": "ipython3",
   "version": "3.12.1"
  }
 },
 "nbformat": 4,
 "nbformat_minor": 2
}
