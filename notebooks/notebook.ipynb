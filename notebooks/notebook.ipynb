{
 "cells": [
  {
   "cell_type": "code",
   "execution_count": 15,
   "metadata": {
    "dotnet_interactive": {
     "language": "csharp"
    },
    "polyglot_notebook": {
     "kernelName": "csharp"
    }
   },
   "outputs": [],
   "source": [
    "from selenium.webdriver.chrome.service import Service as ChromeService\n",
    "from selenium import webdriver\n",
    "from selenium.webdriver.chrome.service import Service\n",
    "from webdriver_manager.chrome import ChromeDriverManager\n",
    "from selenium.webdriver.common.by import By\n",
    "from selenium.webdriver.common.keys import Keys\n",
    "from selenium.webdriver.support.ui import WebDriverWait\n",
    "from selenium.webdriver.support import expected_conditions as EC\n",
    "from selenium.common.exceptions import NoSuchElementException\n",
    "\n",
    "from bs4 import BeautifulSoup\n",
    "\n",
    "from tqdm import tqdm\n",
    "import csv\n",
    "import os\n",
    "import requests\n",
    "\n",
    "import pandas as pd\n",
    "import sys\n",
    "\n",
    "# from scripts.scrape_symbols import scrape_sp500"
   ]
  },
  {
   "cell_type": "code",
   "execution_count": 16,
   "metadata": {
    "dotnet_interactive": {
     "language": "csharp"
    },
    "polyglot_notebook": {
     "kernelName": "csharp"
    }
   },
   "outputs": [],
   "source": [
    "cotation_url = ['https://www.slickcharts.com/sp500']"
   ]
  },
  {
   "cell_type": "code",
   "execution_count": 18,
   "metadata": {
    "dotnet_interactive": {
     "language": "csharp"
    },
    "polyglot_notebook": {
     "kernelName": "csharp"
    }
   },
   "outputs": [
    {
     "name": "stderr",
     "output_type": "stream",
     "text": [
      "  0%|          | 0/1 [00:11<?, ?it/s]\n"
     ]
    }
   ],
   "source": [
    "def scrape_isin(urls):\n",
    "    driver = webdriver.Chrome()\n",
    "    for url in urls:\n",
    "        driver.get(url)\n",
    "        # cookies = driver.find_element(By.XPATH, '//*[@id=\"qc-cmp2-ui\"]/div[2]/div/button[2]')\n",
    "        # wait for loading and then click on the button\n",
    "        cookies = WebDriverWait(driver, 10).until(EC.element_to_be_clickable((By.XPATH, '//*[@id=\"qc-cmp2-ui\"]/div[2]/div/button[2]')))\n",
    "        cookies.click()\n",
    "        \n",
    "        try:\n",
    "            # get the table\n",
    "            table = WebDriverWait(driver, 10).until(EC.presence_of_element_located((By.XPATH, '/html/body/div[4]/div[2]/div[1]/div/div/table')))\n",
    "            # get the rows\n",
    "            rows = table.find_elements(By.TAG_NAME, 'tr')\n",
    "            symbols = [row.find_elements(By.TAG_NAME, 'td')[2].text for row in rows[1:]]\n",
    "            # get the headers\n",
    "            headers = rows[0].find_elements(By.TAG_NAME, 'th')\n",
    "        \n",
    "            # get the isin\n",
    "        except NoSuchElementException:\n",
    "            print(\"Table element not found.\")\n",
    "        \n",
    "        #Save the list in a txt file\n",
    "        with open('../data/symbols.txt', 'w') as f:\n",
    "            for item in symbols:\n",
    "                f.write(item + '\\n')\n",
    "                \n",
    "        return symbols\n",
    "sp500 = scrape_isin(cotation_url)"
   ]
  },
  {
   "cell_type": "code",
   "execution_count": 1,
   "metadata": {
    "dotnet_interactive": {
     "language": "csharp"
    },
    "polyglot_notebook": {
     "kernelName": "csharp"
    }
   },
   "outputs": [],
   "source": [
    "def scrape_yahoo():\n",
    "    return 'oui'"
   ]
  },
  {
   "cell_type": "code",
   "execution_count": null,
   "metadata": {},
   "outputs": [],
   "source": []
  }
 ],
 "metadata": {
  "kernelspec": {
   "display_name": "Python 3.12.2 ('albert_project_env')",
   "language": "python",
   "name": "python3"
  },
  "language_info": {
   "codemirror_mode": {
    "name": "ipython",
    "version": 3
   },
   "file_extension": ".py",
   "mimetype": "text/x-python",
   "name": "python",
   "nbconvert_exporter": "python",
   "pygments_lexer": "ipython3",
   "version": "3.12.2"
  },
  "polyglot_notebook": {
   "kernelInfo": {
    "defaultKernelName": "csharp",
    "items": [
     {
      "aliases": [],
      "name": "csharp"
     }
    ]
   }
  },
  "vscode": {
   "interpreter": {
    "hash": "65176c526348c9cde09b73463fc36a93b45f0f777eab950b43ffcfe4a72be7d2"
   }
  }
 },
 "nbformat": 4,
 "nbformat_minor": 2
}
